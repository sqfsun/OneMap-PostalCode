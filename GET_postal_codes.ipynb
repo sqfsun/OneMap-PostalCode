{
 "cells": [
  {
   "cell_type": "code",
   "execution_count": 1,
   "metadata": {},
   "outputs": [],
   "source": [
    "import requests\n",
    "import time\n",
    "from multiprocessing import Pool\n",
    "import json\n",
    "import re"
   ]
  },
  {
   "cell_type": "code",
   "execution_count": 2,
   "metadata": {},
   "outputs": [],
   "source": [
    "def pcode_to_data(pcode):\n",
    "    if int(pcode) % 1000 == 0:\n",
    "        print(pcode)\n",
    "    \n",
    "    page = 1\n",
    "    results = []\n",
    "    \n",
    "    while True:\n",
    "        try:\n",
    "            response = requests.get('http://developers.onemap.sg/commonapi/search?searchVal={0}&returnGeom=Y&getAddrDetails=Y&pageNum={1}'\n",
    "                                    .format(pcode, page)) \\\n",
    "                               .json()\n",
    "        except requests.exceptions.ConnectionError as e:\n",
    "            print('Fetching {} failed. Retrying in 2 sec'.format(pcode))\n",
    "            \n",
    "            time.sleep(2)\n",
    "            continue\n",
    "            \n",
    "        results = results + response['results']\n",
    "    \n",
    "        if response['totalNumPages'] > page:\n",
    "            page = page + 1\n",
    "        else:\n",
    "            break\n",
    "            \n",
    "    return results"
   ]
  },
  {
   "cell_type": "code",
   "execution_count": 4,
   "metadata": {},
   "outputs": [
    {
     "data": {
      "text/plain": [
       "[{'SEARCHVAL': 'OUE DOWNTOWN',\n",
       "  'BLK_NO': '6',\n",
       "  'ROAD_NAME': 'SHENTON WAY',\n",
       "  'BUILDING': 'OUE DOWNTOWN',\n",
       "  'ADDRESS': '6 SHENTON WAY OUE DOWNTOWN SINGAPORE 068809',\n",
       "  'POSTAL': '68809',\n",
       "  'X': '29679.40246',\n",
       "  'Y': '28827.56391',\n",
       "  'LATITUDE': '1.276980707',\n",
       "  'LONGITUDE': '103.84840859999998',\n",
       "  'LONGTITUDE': '103.84840859999998'},\n",
       " {'SEARCHVAL': 'OUE DOWNTOWN 2',\n",
       "  'BLK_NO': '6',\n",
       "  'ROAD_NAME': 'SHENTON WAY',\n",
       "  'BUILDING': 'OUE DOWNTOWN 2',\n",
       "  'ADDRESS': '6 SHENTON WAY OUE DOWNTOWN 2 SINGAPORE 068809',\n",
       "  'POSTAL': '68809',\n",
       "  'X': '29742.067089999997',\n",
       "  'Y': '28931.83176',\n",
       "  'LATITUDE': '1.277923666',\n",
       "  'LONGITUDE': '103.8489717',\n",
       "  'LONGTITUDE': '103.8489717'},\n",
       " {'SEARCHVAL': 'OAKWOOD PREMIER OUE SINGAPORE',\n",
       "  'BLK_NO': '6',\n",
       "  'ROAD_NAME': 'SHENTON WAY',\n",
       "  'BUILDING': 'OAKWOOD PREMIER OUE SINGAPORE',\n",
       "  'ADDRESS': '6 SHENTON WAY OAKWOOD PREMIER OUE SINGAPORE SINGAPORE 068809',\n",
       "  'POSTAL': '68809',\n",
       "  'X': '29700.34325',\n",
       "  'Y': '28865.05368',\n",
       "  'LATITUDE': '1.2773197509999998',\n",
       "  'LONGITUDE': '103.8485968',\n",
       "  'LONGTITUDE': '103.8485968'},\n",
       " {'SEARCHVAL': 'OUE DOWNTOWN 1',\n",
       "  'BLK_NO': '6',\n",
       "  'ROAD_NAME': 'SHENTON WAY',\n",
       "  'BUILDING': 'OUE DOWNTOWN 1',\n",
       "  'ADDRESS': '6 SHENTON WAY OUE DOWNTOWN 1 SINGAPORE 068809',\n",
       "  'POSTAL': '68809',\n",
       "  'X': '29695.72702',\n",
       "  'Y': '28859.014339999998',\n",
       "  'LATITUDE': '1.277265133',\n",
       "  'LONGITUDE': '103.8485553',\n",
       "  'LONGTITUDE': '103.8485553'}]"
      ]
     },
     "execution_count": 4,
     "metadata": {},
     "output_type": "execute_result"
    }
   ],
   "source": [
    "pcode_to_data('068809')"
   ]
  },
  {
   "cell_type": "markdown",
   "metadata": {},
   "source": [
    "* Pool consuming memory"
   ]
  },
  {
   "cell_type": "code",
   "execution_count": null,
   "metadata": {},
   "outputs": [],
   "source": [
    "if __name__ == '__main__':\n",
    "    pool = Pool(processes=5)\n",
    "    \n",
    "    postal_codes = range(0, 1000000)\n",
    "    postal_codes = ['{0:06d}'.format(p) for p in postal_codes]\n",
    "\n",
    "    all_buildings = pool.map(pcode_to_data, postal_codes)\n",
    "    all_buildings.sort(key=lambda b: (b['POSTAL'], b['SEARCHVAL']))\n",
    "\n",
    "    jstr = json.dumps([y for x in all_buildings for y in x], indent=2, sort_keys=True)\n",
    "\n",
    "    with open('buildings.json', 'w') as f:\n",
    "        f.write(jstr.encode('utf-8'))"
   ]
  },
  {
   "cell_type": "markdown",
   "metadata": {},
   "source": [
    "* Non Pool "
   ]
  },
  {
   "cell_type": "raw",
   "metadata": {},
   "source": [
    "if __name__ == '__main__':\n",
    "    postal_codes = range(0, 1000000)\n",
    "    postal_codes = ['{0:06d}'.format(p) for p in postal_codes]\n",
    "\n",
    "    first = True\n",
    "\n",
    "    with open('buildings.json', 'w') as f:\n",
    "        for p in postal_codes:\n",
    "          buildings = pcode_to_data(p)\n",
    "          buildings.sort(key=lambda x: x['SEARCHVAL'])\n",
    "\n",
    "          for building in buildings:\n",
    "            if first:\n",
    "              f.write('[\\n')\n",
    "              first = False\n",
    "            else:\n",
    "              f.write(',\\n')\n",
    "            f.write(re.sub('^', '  ', json.dumps(building, indent=2, sort_keys=True), flags=re.MULTILINE))\n",
    "\n",
    "        f.write(']')"
   ]
  }
 ],
 "metadata": {
  "kernelspec": {
   "display_name": "Python 3",
   "language": "python",
   "name": "python3"
  },
  "language_info": {
   "codemirror_mode": {
    "name": "ipython",
    "version": 3
   },
   "file_extension": ".py",
   "mimetype": "text/x-python",
   "name": "python",
   "nbconvert_exporter": "python",
   "pygments_lexer": "ipython3",
   "version": "3.7.4"
  }
 },
 "nbformat": 4,
 "nbformat_minor": 2
}
